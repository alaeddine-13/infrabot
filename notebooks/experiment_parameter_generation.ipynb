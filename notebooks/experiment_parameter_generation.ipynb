{
 "cells": [
  {
   "cell_type": "markdown",
   "id": "072ed449-d3ac-4591-b926-7ba639a3ae89",
   "metadata": {},
   "source": [
    "# Solution 1: free form chat before creation"
   ]
  },
  {
   "cell_type": "code",
   "execution_count": 9,
   "id": "10bef09d-35c8-427a-be14-f190684a9aa7",
   "metadata": {},
   "outputs": [
    {
     "data": {
      "text/plain": [
       "\"To create resources suitable for hosting a static website on S3 with Route 53, we need a few parameters. Let's go through these one by one:\\n\\n1. **Domain Name**: What is the domain name you would like to use for your static website? This is necessary to configure Route 53 and the bucket.\\n\\n2. **AWS Region**: Which AWS region would you like to create the S3 bucket in? This is important because S3 buckets are region-specific, although Route 53 is global.\\n\\n3. **Bucket Policy**: Would you like the S3 bucket to be publicly accessible? This is required for a static website so that visitors can access your content.\\n\\n4. **Index Document**: What is the main file of your website (usually `index.html`) that should be used as the index document for the S3 bucket?\\n\\nPlease provide this information so I can continue creating the resources.\""
      ]
     },
     "execution_count": 9,
     "metadata": {},
     "output_type": "execute_result"
    }
   ],
   "source": [
    "from openai import OpenAI\n",
    "\n",
    "SYSTEM_PROMPT = \"\"\"\n",
    "You are a terraform developer, with focus on AWS cloud.\n",
    "When the user requests to create an AWS resource, you will translate his request to terraform infrastructure as code.\n",
    "First, after receiving the user request, think about what parameters you need in order to create the resources, like resource names, regions,...\n",
    "Then ask very brief questions about each of the needed parameters, giving a brief explanation of the parameter. Ask about one parameter at a time.\n",
    "Once you believe you have all the configuration that you need, give your final answer with terraform infrastructure as code.\n",
    "Present all the resources under one file. Format the file like this:\n",
    "```terraform\n",
    "<your terraform code here>\n",
    "```\n",
    "Also present your remarks to the user, explicitly in this format:\n",
    "```remarks\n",
    "<your remarks to the user here>\n",
    "```\n",
    "Make sure that your terraform code handles all the dependencies to create the requested resource.\n",
    "\"\"\"\n",
    "\n",
    "\n",
    "\n",
    "client = OpenAI()\n",
    "\n",
    "request = \"create resources suitable for hosting a static website on s3 bucket with route53\"\n",
    "\n",
    "chat_completion = client.chat.completions.create(\n",
    "    messages=[\n",
    "        {\n",
    "            \"role\": \"system\",\n",
    "            \"content\": SYSTEM_PROMPT,\n",
    "        },\n",
    "        {\n",
    "            \"role\": \"user\",\n",
    "            \"content\": request,\n",
    "        }\n",
    "    ],\n",
    "    model=\"gpt-4o\",\n",
    ")\n",
    "\n",
    "chat_completion.choices[0].message.content\n"
   ]
  },
  {
   "cell_type": "markdown",
   "id": "0b408ce3-c017-4beb-b38c-09c080c1876c",
   "metadata": {},
   "source": [
    "Problems:\n",
    "chat is verbose\n",
    "The assistant can ask about many paramters at once"
   ]
  },
  {
   "cell_type": "markdown",
   "id": "afb218b3-3b66-4ef6-927e-1dc21843e334",
   "metadata": {},
   "source": [
    "# Solution 2: one-shot pre generation parameter creation"
   ]
  },
  {
   "cell_type": "code",
   "execution_count": 23,
   "id": "a5ae0ab2-842a-4510-9aa5-7f94b9a1c3bc",
   "metadata": {},
   "outputs": [
    {
     "data": {
      "text/plain": [
       "ParamtersResponse(parameters=[Parameter(parameter_name='bucket_name', parameter_description='The name of the S3 bucket to host the static website.', default_value='my-static-website', parameter_type=<ParameterType.basic: 'basic'>), Parameter(parameter_name='region', parameter_description='The AWS region where the S3 bucket will be created.', default_value='us-east-1', parameter_type=<ParameterType.basic: 'basic'>), Parameter(parameter_name='index_document', parameter_description='The name of the index document for the S3 bucket hosting the website.', default_value='index.html', parameter_type=<ParameterType.basic: 'basic'>), Parameter(parameter_name='error_document', parameter_description='The name of the error document for the S3 bucket hosting the website.', default_value='error.html', parameter_type=<ParameterType.basic: 'basic'>), Parameter(parameter_name='route53_domain_name', parameter_description='The domain name to be configured in Route53 for the static website.', default_value='example.com', parameter_type=<ParameterType.basic: 'basic'>), Parameter(parameter_name='route53_zone_id', parameter_description='The ID of the Route53 hosted zone that will manage the domain.', default_value='', parameter_type=<ParameterType.basic: 'basic'>), Parameter(parameter_name='acl_policy', parameter_description='The access control list (ACL) policy for the S3 bucket. For a static website, this should generally allow public read access.', default_value='public-read', parameter_type=<ParameterType.advanced: 'advanced'>)])"
      ]
     },
     "execution_count": 23,
     "metadata": {},
     "output_type": "execute_result"
    }
   ],
   "source": [
    "from openai import OpenAI\n",
    "from enum import Enum\n",
    "from typing import Union\n",
    "\n",
    "from pydantic import BaseModel\n",
    "\n",
    "client = OpenAI()\n",
    "\n",
    "class ParameterType(str, Enum):\n",
    "    advanced = \"advanced\"\n",
    "    basic = \"basic\"\n",
    "\n",
    "class Parameter(BaseModel):\n",
    "    parameter_name: str\n",
    "    parameter_description: str\n",
    "    default_value: str\n",
    "    parameter_type: ParameterType\n",
    "    \n",
    "class ParamtersResponse(BaseModel):\n",
    "    parameters: list[Parameter]\n",
    "\n",
    "\n",
    "SYSTEM_PROMPT = \"\"\"\n",
    "The user will request you to create resources on AWS by generating terraform infrastructure as code. \n",
    "Generate a list parameters you need to create those resources. Each parameter consists of parameter name, parameter description and default value that you suggest to the user.\n",
    "\"\"\"\n",
    "\n",
    "request = \"create resources suitable for hosting a static website on s3 bucket with route53\"\n",
    "\n",
    "completion = client.beta.chat.completions.parse(\n",
    "  model=\"gpt-4o-2024-08-06\",\n",
    "  messages=[\n",
    "    {\n",
    "      \"role\": \"system\",\n",
    "      \"content\": [\n",
    "        {\n",
    "          \"type\": \"text\",\n",
    "          \"text\": SYSTEM_PROMPT\n",
    "        }\n",
    "      ]\n",
    "    },\n",
    "    {\n",
    "      \"role\": \"user\",\n",
    "      \"content\": [\n",
    "        {\n",
    "          \"type\": \"text\",\n",
    "          \"text\": request\n",
    "        }\n",
    "      ]\n",
    "    },\n",
    "  ],\n",
    "  temperature=1,\n",
    "  max_tokens=2048,\n",
    "  top_p=1,\n",
    "  frequency_penalty=0,\n",
    "  presence_penalty=0,\n",
    "  response_format=ParamtersResponse,\n",
    ")\n",
    "completion.choices[0].message.parsed"
   ]
  },
  {
   "cell_type": "code",
   "execution_count": 24,
   "id": "d0fdc1d7-1cf6-4d6d-98df-d0022d5a35df",
   "metadata": {},
   "outputs": [
    {
     "name": "stdout",
     "output_type": "stream",
     "text": [
      "{\"parameter_name\":\"bucket_name\",\"parameter_description\":\"The name of the S3 bucket to host the static website.\",\"default_value\":\"my-static-website\",\"parameter_type\":\"basic\"}\n",
      "{\"parameter_name\":\"region\",\"parameter_description\":\"The AWS region where the S3 bucket will be created.\",\"default_value\":\"us-east-1\",\"parameter_type\":\"basic\"}\n",
      "{\"parameter_name\":\"index_document\",\"parameter_description\":\"The name of the index document for the S3 bucket hosting the website.\",\"default_value\":\"index.html\",\"parameter_type\":\"basic\"}\n",
      "{\"parameter_name\":\"error_document\",\"parameter_description\":\"The name of the error document for the S3 bucket hosting the website.\",\"default_value\":\"error.html\",\"parameter_type\":\"basic\"}\n",
      "{\"parameter_name\":\"route53_domain_name\",\"parameter_description\":\"The domain name to be configured in Route53 for the static website.\",\"default_value\":\"example.com\",\"parameter_type\":\"basic\"}\n",
      "{\"parameter_name\":\"route53_zone_id\",\"parameter_description\":\"The ID of the Route53 hosted zone that will manage the domain.\",\"default_value\":\"\",\"parameter_type\":\"basic\"}\n",
      "{\"parameter_name\":\"acl_policy\",\"parameter_description\":\"The access control list (ACL) policy for the S3 bucket. For a static website, this should generally allow public read access.\",\"default_value\":\"public-read\",\"parameter_type\":\"advanced\"}\n"
     ]
    }
   ],
   "source": [
    "for parameter in completion.choices[0].message.parsed.parameters:\n",
    "    print(parameter.json())"
   ]
  },
  {
   "cell_type": "markdown",
   "id": "c6fea543-e49c-4fcd-a757-a7997b0803e6",
   "metadata": {},
   "source": [
    "problems:\n",
    "choosing one parameter can change the course of the paramters to be chosen, for instance, if user chooses a certain type of route53_record, he may need specific parameters for that record type."
   ]
  },
  {
   "cell_type": "markdown",
   "id": "23ccb6bf-8e63-4e24-ad2e-056965912132",
   "metadata": {},
   "source": [
    "# Solution 3: multi-step pre generation parameter creation"
   ]
  },
  {
   "cell_type": "code",
   "execution_count": 22,
   "id": "75e56b90-5be2-4ff4-838f-d59b913e5602",
   "metadata": {},
   "outputs": [
    {
     "name": "stdout",
     "output_type": "stream",
     "text": [
      "parameter_name='bucket_name' parameter_description='The name of the S3 bucket where the static website will be hosted. It must be globally unique.' default_value='my-static-website-bucket'\n"
     ]
    },
    {
     "name": "stdin",
     "output_type": "stream",
     "text": [
      "provide a value:  my-static-website-bucket\n"
     ]
    },
    {
     "name": "stdout",
     "output_type": "stream",
     "text": [
      "parameter_name='domain_name' parameter_description='The registered domain name to be used for the static website.' default_value='example.com'\n"
     ]
    },
    {
     "name": "stdin",
     "output_type": "stream",
     "text": [
      "provide a value:  example.com\n"
     ]
    },
    {
     "name": "stdout",
     "output_type": "stream",
     "text": [
      "parameter_name='region' parameter_description='The AWS region where the S3 bucket will be created.' default_value='us-east-1'\n"
     ]
    },
    {
     "name": "stdin",
     "output_type": "stream",
     "text": [
      "provide a value:  us-east-1\n"
     ]
    },
    {
     "name": "stdout",
     "output_type": "stream",
     "text": [
      "parameter_name='route53_hosted_zone_id' parameter_description='The ID of the Route 53 hosted zone that will be used to manage the DNS records for the domain.' default_value=''\n"
     ]
    },
    {
     "name": "stdin",
     "output_type": "stream",
     "text": [
      "provide a value:  myzoneid\n"
     ]
    },
    {
     "name": "stdout",
     "output_type": "stream",
     "text": [
      "parameter_name='website_index_document' parameter_description='The name of the index document for the static website hosted on S3.' default_value='index.html'\n"
     ]
    },
    {
     "name": "stdin",
     "output_type": "stream",
     "text": [
      "provide a value:  index.html\n"
     ]
    },
    {
     "name": "stdout",
     "output_type": "stream",
     "text": [
      "parameter_name='website_error_document' parameter_description='The name of the error document for the static website hosted on S3.' default_value='error.html'\n"
     ]
    },
    {
     "name": "stdin",
     "output_type": "stream",
     "text": [
      "provide a value:  error.html\n"
     ]
    },
    {
     "name": "stdout",
     "output_type": "stream",
     "text": [
      "parameter_name='enable_website_logging' parameter_description='Specifies whether access logging is enabled for the S3 bucket. If set to true, logging will be enabled and the logs will be stored in the specified S3 bucket for logs.' default_value='false'\n"
     ]
    },
    {
     "name": "stdin",
     "output_type": "stream",
     "text": [
      "provide a value:  false\n"
     ]
    },
    {
     "name": "stdout",
     "output_type": "stream",
     "text": [
      "parameter_name='enable_versioning' parameter_description='Specifies whether versioning should be enabled for the S3 bucket to keep multiple versions of an object in one bucket.' default_value='false'\n"
     ]
    },
    {
     "name": "stdin",
     "output_type": "stream",
     "text": [
      "provide a value:  false\n"
     ]
    },
    {
     "name": "stdout",
     "output_type": "stream",
     "text": [
      "parameter_name='enable_https' parameter_description='Specifies whether HTTPS should be enabled for the static website. If set to true, AWS Certificate Manager (ACM) will be used to provision an SSL certificate for the domain.' default_value='false'\n"
     ]
    },
    {
     "name": "stdin",
     "output_type": "stream",
     "text": [
      "provide a value:  false\n"
     ]
    },
    {
     "name": "stdout",
     "output_type": "stream",
     "text": [
      "parameter_name='certificate_arn' parameter_description='The ARN of the SSL certificate in AWS Certificate Manager (ACM) to be used if HTTPS is enabled for the static website.' default_value='arn:aws:acm:region:account-id:certificate/certificate-id'\n"
     ]
    },
    {
     "name": "stdin",
     "output_type": "stream",
     "text": [
      "provide a value:  \n"
     ]
    },
    {
     "name": "stdout",
     "output_type": "stream",
     "text": [
      "parameter_name='log_bucket_name' parameter_description='The name of the S3 bucket where access logs will be stored if website logging is enabled. It must be globally unique.' default_value='my-static-website-bucket-logs'\n"
     ]
    },
    {
     "name": "stdin",
     "output_type": "stream",
     "text": [
      "provide a value:  \n"
     ]
    },
    {
     "name": "stdout",
     "output_type": "stream",
     "text": [
      "parameter_name='bucket_acl' parameter_description=\"The canned ACL to apply to the S3 bucket to set its permissions. Possible values include 'private', 'public-read', etc.\" default_value='public-read'\n"
     ]
    },
    {
     "name": "stdin",
     "output_type": "stream",
     "text": [
      "provide a value:  \n"
     ]
    },
    {
     "name": "stdout",
     "output_type": "stream",
     "text": [
      "parameter_name='enable_website_redirect' parameter_description='Specifies whether the S3 bucket should configure a redirect for requests. Useful for redirecting from the bare domain to www or vice versa.' default_value='false'\n"
     ]
    },
    {
     "ename": "KeyboardInterrupt",
     "evalue": "Interrupted by user",
     "output_type": "error",
     "traceback": [
      "\u001b[0;31m---------------------------------------------------------------------------\u001b[0m",
      "\u001b[0;31mKeyboardInterrupt\u001b[0m                         Traceback (most recent call last)",
      "Cell \u001b[0;32mIn[22], line 79\u001b[0m\n\u001b[1;32m     77\u001b[0m \u001b[38;5;28;01massert\u001b[39;00m param \u001b[38;5;129;01mis\u001b[39;00m \u001b[38;5;129;01mnot\u001b[39;00m \u001b[38;5;28;01mNone\u001b[39;00m\n\u001b[1;32m     78\u001b[0m \u001b[38;5;28mprint\u001b[39m(param)\n\u001b[0;32m---> 79\u001b[0m param\u001b[38;5;241m.\u001b[39mdefault_value \u001b[38;5;241m=\u001b[39m \u001b[38;5;28;43minput\u001b[39;49m\u001b[43m(\u001b[49m\u001b[38;5;124;43m\"\u001b[39;49m\u001b[38;5;124;43mprovide a value: \u001b[39;49m\u001b[38;5;124;43m\"\u001b[39;49m\u001b[43m)\u001b[49m\n\u001b[1;32m     80\u001b[0m params\u001b[38;5;241m.\u001b[39mappend(param)\n",
      "File \u001b[0;32m~/PycharmProjects/easycloud/.venv/lib/python3.12/site-packages/ipykernel/kernelbase.py:1282\u001b[0m, in \u001b[0;36mKernel.raw_input\u001b[0;34m(self, prompt)\u001b[0m\n\u001b[1;32m   1280\u001b[0m     msg \u001b[38;5;241m=\u001b[39m \u001b[38;5;124m\"\u001b[39m\u001b[38;5;124mraw_input was called, but this frontend does not support input requests.\u001b[39m\u001b[38;5;124m\"\u001b[39m\n\u001b[1;32m   1281\u001b[0m     \u001b[38;5;28;01mraise\u001b[39;00m StdinNotImplementedError(msg)\n\u001b[0;32m-> 1282\u001b[0m \u001b[38;5;28;01mreturn\u001b[39;00m \u001b[38;5;28;43mself\u001b[39;49m\u001b[38;5;241;43m.\u001b[39;49m\u001b[43m_input_request\u001b[49m\u001b[43m(\u001b[49m\n\u001b[1;32m   1283\u001b[0m \u001b[43m    \u001b[49m\u001b[38;5;28;43mstr\u001b[39;49m\u001b[43m(\u001b[49m\u001b[43mprompt\u001b[49m\u001b[43m)\u001b[49m\u001b[43m,\u001b[49m\n\u001b[1;32m   1284\u001b[0m \u001b[43m    \u001b[49m\u001b[38;5;28;43mself\u001b[39;49m\u001b[38;5;241;43m.\u001b[39;49m\u001b[43m_parent_ident\u001b[49m\u001b[43m[\u001b[49m\u001b[38;5;124;43m\"\u001b[39;49m\u001b[38;5;124;43mshell\u001b[39;49m\u001b[38;5;124;43m\"\u001b[39;49m\u001b[43m]\u001b[49m\u001b[43m,\u001b[49m\n\u001b[1;32m   1285\u001b[0m \u001b[43m    \u001b[49m\u001b[38;5;28;43mself\u001b[39;49m\u001b[38;5;241;43m.\u001b[39;49m\u001b[43mget_parent\u001b[49m\u001b[43m(\u001b[49m\u001b[38;5;124;43m\"\u001b[39;49m\u001b[38;5;124;43mshell\u001b[39;49m\u001b[38;5;124;43m\"\u001b[39;49m\u001b[43m)\u001b[49m\u001b[43m,\u001b[49m\n\u001b[1;32m   1286\u001b[0m \u001b[43m    \u001b[49m\u001b[43mpassword\u001b[49m\u001b[38;5;241;43m=\u001b[39;49m\u001b[38;5;28;43;01mFalse\u001b[39;49;00m\u001b[43m,\u001b[49m\n\u001b[1;32m   1287\u001b[0m \u001b[43m\u001b[49m\u001b[43m)\u001b[49m\n",
      "File \u001b[0;32m~/PycharmProjects/easycloud/.venv/lib/python3.12/site-packages/ipykernel/kernelbase.py:1325\u001b[0m, in \u001b[0;36mKernel._input_request\u001b[0;34m(self, prompt, ident, parent, password)\u001b[0m\n\u001b[1;32m   1322\u001b[0m \u001b[38;5;28;01mexcept\u001b[39;00m \u001b[38;5;167;01mKeyboardInterrupt\u001b[39;00m:\n\u001b[1;32m   1323\u001b[0m     \u001b[38;5;66;03m# re-raise KeyboardInterrupt, to truncate traceback\u001b[39;00m\n\u001b[1;32m   1324\u001b[0m     msg \u001b[38;5;241m=\u001b[39m \u001b[38;5;124m\"\u001b[39m\u001b[38;5;124mInterrupted by user\u001b[39m\u001b[38;5;124m\"\u001b[39m\n\u001b[0;32m-> 1325\u001b[0m     \u001b[38;5;28;01mraise\u001b[39;00m \u001b[38;5;167;01mKeyboardInterrupt\u001b[39;00m(msg) \u001b[38;5;28;01mfrom\u001b[39;00m \u001b[38;5;28;01mNone\u001b[39;00m\n\u001b[1;32m   1326\u001b[0m \u001b[38;5;28;01mexcept\u001b[39;00m \u001b[38;5;167;01mException\u001b[39;00m:\n\u001b[1;32m   1327\u001b[0m     \u001b[38;5;28mself\u001b[39m\u001b[38;5;241m.\u001b[39mlog\u001b[38;5;241m.\u001b[39mwarning(\u001b[38;5;124m\"\u001b[39m\u001b[38;5;124mInvalid Message:\u001b[39m\u001b[38;5;124m\"\u001b[39m, exc_info\u001b[38;5;241m=\u001b[39m\u001b[38;5;28;01mTrue\u001b[39;00m)\n",
      "\u001b[0;31mKeyboardInterrupt\u001b[0m: Interrupted by user"
     ]
    }
   ],
   "source": [
    "from openai import OpenAI\n",
    "from enum import Enum\n",
    "from typing import Union, List, Optional\n",
    "\n",
    "from pydantic import BaseModel\n",
    "\n",
    "client = OpenAI()\n",
    "\n",
    "class Parameter(BaseModel):\n",
    "    parameter_name: str\n",
    "    parameter_description: str\n",
    "    default_value: str\n",
    "\n",
    "class Response(BaseModel):\n",
    "    parameter: Optional[Parameter]\n",
    "    finished: bool\n",
    "\n",
    "\n",
    "\n",
    "SYSTEM_PROMPT = \"\"\"\n",
    "The user will request you to create resources on AWS by generating terraform infrastructure as code. \n",
    "Generate a list parameters you need to create those resources. Each parameter consists of parameter name, parameter description and default value that you suggest to the user.\n",
    "Here are the parameters that the user provided so far:\n",
    "{parameters}\n",
    "\n",
    "Suggest one parameter at a time if you need more parameters and set finished=False.\n",
    "If you don't need anymore parameters, don't return any parameter and return finished=True\n",
    "\"\"\"\n",
    "\n",
    "def fmt_parameters(params: List[Parameter]):\n",
    "    if not params:\n",
    "        return \"No parameters provided so far.\"\n",
    "    params = [f\"{parameter.parameter_name} ({parameter.parameter_description}): {parameter.default_value}\" for parameter in params]\n",
    "    return \"\\n\".join(params)\n",
    "\n",
    "\n",
    "params = []\n",
    "\n",
    "while True:\n",
    "    request = \"create resources suitable for hosting a static website on s3 bucket with route53\"\n",
    "    \n",
    "    completion = client.beta.chat.completions.parse(\n",
    "      model=\"gpt-4o-2024-08-06\",\n",
    "      messages=[\n",
    "        {\n",
    "          \"role\": \"system\",\n",
    "          \"content\": [\n",
    "            {\n",
    "              \"type\": \"text\",\n",
    "              \"text\": SYSTEM_PROMPT.format(parameters=fmt_parameters(params))\n",
    "            }\n",
    "          ]\n",
    "        },\n",
    "        {\n",
    "          \"role\": \"user\",\n",
    "          \"content\": [\n",
    "            {\n",
    "              \"type\": \"text\",\n",
    "              \"text\": request\n",
    "            }\n",
    "          ]\n",
    "        },\n",
    "      ],\n",
    "      temperature=1,\n",
    "      max_tokens=2048,\n",
    "      top_p=1,\n",
    "      frequency_penalty=0,\n",
    "      presence_penalty=0,\n",
    "      response_format=Response,\n",
    "    )\n",
    "    response = completion.choices[0].message.parsed\n",
    "    if response.finished:\n",
    "        break\n",
    "    else:\n",
    "        param = response.parameter\n",
    "        assert param is not None\n",
    "        print(param)\n",
    "        param.default_value = input(\"provide a value: \")\n",
    "        params.append(param)"
   ]
  },
  {
   "cell_type": "markdown",
   "id": "cd4ac710-5cb6-4ccd-a9ff-67ea12cba0cd",
   "metadata": {},
   "source": [
    "problems:\n",
    "sometimes, asks about a resource that is supposed to be created. The assistant should rather create this resource for the user\n",
    "for instance\n",
    "parameter_name='certificate_arn' parameter_description='The ARN of the SSL certificate in AWS Certificate Manager (ACM) to be used if HTTPS is enabled for the static website.' default_value='arn:aws:acm:region:account-id:certificate/certificate-id'\n",
    "too many parameters and no way to mask out advanced parameters"
   ]
  },
  {
   "cell_type": "markdown",
   "id": "975b6c1d-4c4c-4f6c-a3bc-be4acbce7969",
   "metadata": {},
   "source": [
    "# Solution 4: one-shot post generation parameter creation with string replacement"
   ]
  },
  {
   "cell_type": "code",
   "execution_count": 25,
   "id": "9706850f-0984-4f1b-8095-5b61202c5588",
   "metadata": {},
   "outputs": [
    {
     "data": {
      "text/plain": [
       "'To host a static website on AWS using S3 and Route 53, you need to create an S3 bucket configured for static website hosting and a Route 53 DNS record to point to the S3 bucket website endpoint. Below is the Terraform code to achieve this setup:\\n\\n```terraform\\nprovider \"aws\" {\\n  region = \"us-east-1\"  # You can change this to your preferred region\\n}\\n\\nresource \"aws_s3_bucket\" \"static_website\" {\\n  bucket = \"your-unique-bucket-name\"  # Ensure this bucket name is unique globally\\n  acl    = \"public-read\"\\n\\n  website {\\n    index_document = \"index.html\"\\n    error_document = \"error.html\"\\n  }\\n}\\n\\nresource \"aws_s3_bucket_policy\" \"bucket_policy\" {\\n  bucket = aws_s3_bucket.static_website.id\\n\\n  policy = jsonencode({\\n    Version = \"2012-10-17\"\\n    Statement = [\\n      {\\n        Effect    = \"Allow\"\\n        Principal = \"*\"\\n        Action    = \"s3:GetObject\"\\n        Resource  = \"${aws_s3_bucket.static_website.arn}/*\"\\n      }\\n    ]\\n  })\\n}\\n\\nresource \"aws_route53_zone\" \"myzone\" {\\n  name = \"example.com\"  # Replace with your domain name\\n}\\n\\nresource \"aws_route53_record\" \"www\" {\\n  zone_id = aws_route53_zone.myzone.zone_id\\n  name    = \"www\"\\n  type    = \"CNAME\"\\n  ttl     = 300\\n  records = [aws_s3_bucket.static_website.website_endpoint]\\n}\\n\\noutput \"website_url\" {\\n  value = aws_s3_bucket.static_website.website_endpoint\\n}\\n\\noutput \"route53_zone_id\" {\\n  value = aws_route53_zone.myzone.zone_id\\n}\\n```\\n\\n### Notes:\\n- Replace `\"your-unique-bucket-name\"` with a globally unique S3 bucket name.\\n- Replace `\"example.com\"` with your actual domain name.\\n- Add your `index.html` and `error.html` to the created S3 bucket to make your site publicly accessible.\\n- Make sure your domain is verified and managed by Route 53 or be ready to update your domain\\'s nameserver settings if managed elsewhere.\\n- The CNAME record setup in this configuration assumes you are using a subdomain like `www.example.com`. Adjust DNS names according to your needs.'"
      ]
     },
     "execution_count": 25,
     "metadata": {},
     "output_type": "execute_result"
    }
   ],
   "source": [
    "from openai import OpenAI\n",
    "\n",
    "SYSTEM_PROMPT = \"\"\"\n",
    "You are a terraform developer, with focus on AWS cloud.\n",
    "When the user requests to create an AWS resource, translate his request to terraform infrastructure as code.\n",
    "Present all the resources under one file. Format the file like this:\n",
    "```terraform\n",
    "<your terraform code here>\n",
    "```\n",
    "Make sure that your terraform code handles all the dependencies to create the requested resource.\n",
    "\"\"\"\n",
    "\n",
    "\n",
    "client = OpenAI()\n",
    "\n",
    "request = \"create resources suitable for hosting a static website on s3 bucket with route53\"\n",
    "\n",
    "chat_completion = client.chat.completions.create(\n",
    "    messages=[\n",
    "        {\n",
    "            \"role\": \"system\",\n",
    "            \"content\": SYSTEM_PROMPT,\n",
    "        },\n",
    "        {\n",
    "            \"role\": \"user\",\n",
    "            \"content\": request,\n",
    "        }\n",
    "    ],\n",
    "    model=\"gpt-4o\",\n",
    ")\n",
    "\n",
    "chat_completion.choices[0].message.content"
   ]
  },
  {
   "cell_type": "code",
   "execution_count": 27,
   "id": "ce29a2c3-d08b-4f2c-a8f2-7b6071fe4241",
   "metadata": {},
   "outputs": [],
   "source": [
    "import re\n",
    "from typing import List, Optional\n",
    "\n",
    "def extract_code_blocks(text: str, title: Optional[str] = None) -> List[str]:\n",
    "    \"\"\"\n",
    "    Extract code blocks from text that match the pattern ```{title}\\n<content>```\n",
    "\n",
    "    Args:\n",
    "        text (str): The input text containing code blocks\n",
    "        title (Optional[str]): If provided, only extract blocks with this title\n",
    "\n",
    "    Returns:\n",
    "        List[str]: List of extracted code block contents\n",
    "    \"\"\"\n",
    "    # Pattern explanation:\n",
    "    # ```           - Match opening triple backticks\n",
    "    # ([^\\n]*)     - Capture any characters except newline (the title)\n",
    "    # \\n           - Match newline\n",
    "    # (.*?)        - Capture any characters (non-greedy) (the content)\n",
    "    # ```          - Match closing triple backticks\n",
    "    pattern = r'```([^\\n]*)\\n(.*?)```'\n",
    "\n",
    "    # Use re.DOTALL to make dot match newlines\n",
    "    matches = re.finditer(pattern, text, re.DOTALL)\n",
    "\n",
    "    results = []\n",
    "    for match in matches:\n",
    "        block_title = match.group(1).strip()\n",
    "        content = match.group(2).strip()\n",
    "\n",
    "        # If title is specified, only include blocks with matching title\n",
    "        if title is None or block_title.lower() == title.lower():\n",
    "            results.append(content)\n",
    "\n",
    "    return results"
   ]
  },
  {
   "cell_type": "code",
   "execution_count": 29,
   "id": "ba694dde-3d59-448f-af48-0c700fdf0d73",
   "metadata": {},
   "outputs": [
    {
     "data": {
      "text/plain": [
       "'provider \"aws\" {\\n  region = \"us-east-1\"  # You can change this to your preferred region\\n}\\n\\nresource \"aws_s3_bucket\" \"static_website\" {\\n  bucket = \"your-unique-bucket-name\"  # Ensure this bucket name is unique globally\\n  acl    = \"public-read\"\\n\\n  website {\\n    index_document = \"index.html\"\\n    error_document = \"error.html\"\\n  }\\n}\\n\\nresource \"aws_s3_bucket_policy\" \"bucket_policy\" {\\n  bucket = aws_s3_bucket.static_website.id\\n\\n  policy = jsonencode({\\n    Version = \"2012-10-17\"\\n    Statement = [\\n      {\\n        Effect    = \"Allow\"\\n        Principal = \"*\"\\n        Action    = \"s3:GetObject\"\\n        Resource  = \"${aws_s3_bucket.static_website.arn}/*\"\\n      }\\n    ]\\n  })\\n}\\n\\nresource \"aws_route53_zone\" \"myzone\" {\\n  name = \"example.com\"  # Replace with your domain name\\n}\\n\\nresource \"aws_route53_record\" \"www\" {\\n  zone_id = aws_route53_zone.myzone.zone_id\\n  name    = \"www\"\\n  type    = \"CNAME\"\\n  ttl     = 300\\n  records = [aws_s3_bucket.static_website.website_endpoint]\\n}\\n\\noutput \"website_url\" {\\n  value = aws_s3_bucket.static_website.website_endpoint\\n}\\n\\noutput \"route53_zone_id\" {\\n  value = aws_route53_zone.myzone.zone_id\\n}'"
      ]
     },
     "execution_count": 29,
     "metadata": {},
     "output_type": "execute_result"
    }
   ],
   "source": [
    "terraform_code = extract_code_blocks(chat_completion.choices[0].message.content, \"terraform\")[0]\n",
    "terraform_code"
   ]
  },
  {
   "cell_type": "code",
   "execution_count": 30,
   "id": "684accc9-4f78-44d2-810b-4bab84cad096",
   "metadata": {},
   "outputs": [
    {
     "data": {
      "text/plain": [
       "ParamtersResponse(parameters=[Parameter(parameter_name='aws_region', parameter_description='The AWS region where resources will be created.', default_value='us-east-1', parameter_type=<ParameterType.basic: 'basic'>), Parameter(parameter_name='s3_bucket_name', parameter_description='A unique name for the S3 bucket, must be globally unique.', default_value='your-unique-bucket-name', parameter_type=<ParameterType.basic: 'basic'>), Parameter(parameter_name='s3_index_document', parameter_description='The path to the index document for the S3 website.', default_value='index.html', parameter_type=<ParameterType.basic: 'basic'>), Parameter(parameter_name='s3_error_document', parameter_description='The path to the error document for the S3 website.', default_value='error.html', parameter_type=<ParameterType.basic: 'basic'>), Parameter(parameter_name='route53_domain_name', parameter_description='The domain name for the Route 53 hosted zone.', default_value='example.com', parameter_type=<ParameterType.basic: 'basic'>), Parameter(parameter_name='cname_record_name', parameter_description='The name for the CNAME record in Route 53.', default_value='www', parameter_type=<ParameterType.basic: 'basic'>), Parameter(parameter_name='cname_ttl', parameter_description='The TTL (Time to Live) for the CNAME record in Route 53.', default_value='300', parameter_type=<ParameterType.basic: 'basic'>)])"
      ]
     },
     "execution_count": 30,
     "metadata": {},
     "output_type": "execute_result"
    }
   ],
   "source": [
    "from openai import OpenAI\n",
    "from enum import Enum\n",
    "from typing import Union\n",
    "\n",
    "from pydantic import BaseModel\n",
    "\n",
    "client = OpenAI()\n",
    "\n",
    "class ParameterType(str, Enum):\n",
    "    advanced = \"advanced\"\n",
    "    basic = \"basic\"\n",
    "\n",
    "class Parameter(BaseModel):\n",
    "    parameter_name: str\n",
    "    parameter_description: str\n",
    "    default_value: str\n",
    "    parameter_type: ParameterType\n",
    "\n",
    "class Response(BaseModel):\n",
    "    parameters: List[Parameter]\n",
    "\n",
    "\n",
    "SYSTEM_PROMPT = \"\"\"\n",
    "The user provided the following request you to create resources on AWS by generating terraform infrastructure as code.\n",
    "{request}\n",
    "Given terraform code, generate a list parameters you need to customize those resources. Each parameter consists of parameter name, parameter description, default value and parameter type that you will to the user to customize the resources.\n",
    "\"\"\"\n",
    "\n",
    "request = \"create resources suitable for hosting a static website on s3 bucket with route53\"\n",
    "\n",
    "completion = client.beta.chat.completions.parse(\n",
    "  model=\"gpt-4o-2024-08-06\",\n",
    "  messages=[\n",
    "    {\n",
    "      \"role\": \"system\",\n",
    "      \"content\": [\n",
    "        {\n",
    "          \"type\": \"text\",\n",
    "          \"text\": SYSTEM_PROMPT.format(request=request)\n",
    "        }\n",
    "      ]\n",
    "    },\n",
    "    {\n",
    "      \"role\": \"user\",\n",
    "      \"content\": [\n",
    "        {\n",
    "          \"type\": \"text\",\n",
    "          \"text\": f\"here is the terraform code \\n {terraform_code}\"\n",
    "        }\n",
    "      ]\n",
    "    },\n",
    "  ],\n",
    "  temperature=1,\n",
    "  max_tokens=2048,\n",
    "  top_p=1,\n",
    "  frequency_penalty=0,\n",
    "  presence_penalty=0,\n",
    "  response_format=ParamtersResponse,\n",
    ")\n",
    "completion.choices[0].message.parsed"
   ]
  },
  {
   "cell_type": "code",
   "execution_count": 31,
   "id": "815b7d8f-71e8-4169-a1b5-34e0d0cc5d46",
   "metadata": {},
   "outputs": [
    {
     "data": {
      "text/plain": [
       "'provider \"aws\" {\\n  region = \"us-east-1\"  # You can change this to your preferred region\\n}\\n\\nresource \"aws_s3_bucket\" \"static_website\" {\\n  bucket = \"your-unique-bucket-name\"  # Ensure this bucket name is unique globally\\n  acl    = \"public-read\"\\n\\n  website {\\n    index_document = \"index.html\"\\n    error_document = \"error.html\"\\n  }\\n}\\n\\nresource \"aws_s3_bucket_policy\" \"bucket_policy\" {\\n  bucket = aws_s3_bucket.static_website.id\\n\\n  policy = jsonencode({\\n    Version = \"2012-10-17\"\\n    Statement = [\\n      {\\n        Effect    = \"Allow\"\\n        Principal = \"*\"\\n        Action    = \"s3:GetObject\"\\n        Resource  = \"${aws_s3_bucket.static_website.arn}/*\"\\n      }\\n    ]\\n  })\\n}\\n\\nresource \"aws_route53_zone\" \"myzone\" {\\n  name = \"example.com\"  # Replace with your domain name\\n}\\n\\nresource \"aws_route53_record\" \"www\" {\\n  zone_id = aws_route53_zone.myzone.zone_id\\n  name    = \"www\"\\n  type    = \"CNAME\"\\n  ttl     = 300\\n  records = [aws_s3_bucket.static_website.website_endpoint]\\n}\\n\\noutput \"website_url\" {\\n  value = aws_s3_bucket.static_website.website_endpoint\\n}\\n\\noutput \"route53_zone_id\" {\\n  value = aws_route53_zone.myzone.zone_id\\n}'"
      ]
     },
     "execution_count": 31,
     "metadata": {},
     "output_type": "execute_result"
    }
   ],
   "source": [
    "terraform_code"
   ]
  },
  {
   "cell_type": "markdown",
   "id": "08e855c8-c6e1-48f0-a819-52c1b486b316",
   "metadata": {},
   "source": [
    "# Solution 5: 2-shot generation with parameter creation"
   ]
  },
  {
   "cell_type": "code",
   "execution_count": 32,
   "id": "6a6b4996-c8f4-4c14-be98-669352506c81",
   "metadata": {},
   "outputs": [
    {
     "data": {
      "text/plain": [
       "'To host a static website using an S3 bucket with a custom domain managed by Route 53, you\\'ll need to set up the S3 bucket with website hosting enabled, configure Route 53 to route traffic to the bucket, and create an SSL certificate for HTTPS support. Assuming you already have a registered domain in Route 53, here\\'s the necessary Terraform code:\\n\\n```terraform\\nprovider \"aws\" {\\n  region = \"us-east-1\"\\n}\\n\\nvariable \"domain_name\" {\\n  description = \"The domain name to be used for the static website\"\\n}\\n\\nresource \"aws_s3_bucket\" \"website\" {\\n  bucket = var.domain_name\\n  acl    = \"public-read\"\\n\\n  website {\\n    index_document = \"index.html\"\\n    error_document = \"error.html\"\\n  }\\n}\\n\\nresource \"aws_s3_bucket_policy\" \"website_policy\" {\\n  bucket = aws_s3_bucket.website.id\\n  policy = jsonencode({\\n    Version = \"2012-10-17\"\\n    Statement = [\\n      {\\n        Effect    = \"Allow\"\\n        Principal = \"*\"\\n        Action    = \"s3:GetObject\"\\n        Resource  = \"${aws_s3_bucket.website.arn}/*\"\\n      }\\n    ]\\n  })\\n}\\n\\nresource \"aws_route53_record\" \"www\" {\\n  zone_id = aws_route53_zone.primary.zone_id\\n  name    = var.domain_name\\n  type    = \"A\"\\n\\n  alias {\\n    name                   = aws_cloudfront_distribution.website.domain_name\\n    zone_id                = aws_cloudfront_distribution.website.hosted_zone_id\\n    evaluate_target_health = false\\n  }\\n}\\n\\nresource \"aws_route53_zone\" \"primary\" {\\n  name = var.domain_name\\n}\\n\\nresource \"aws_cloudfront_distribution\" \"website\" {\\n  origin {\\n    domain_name = \"${aws_s3_bucket.website.bucket_domain_name}\"\\n    origin_id   = \"S3-${aws_s3_bucket.website.id}\"\\n\\n    s3_origin_config {\\n      origin_access_identity = aws_cloudfront_origin_access_identity.website.cloudfront_access_identity_path\\n    }\\n  }\\n\\n  enabled             = true\\n  is_ipv6_enabled     = true\\n  comment             = \"Static website hosting for ${var.domain_name}\"\\n  default_root_object = \"index.html\"\\n\\n  aliases = [var.domain_name]\\n\\n  default_cache_behavior {\\n    allowed_methods  = [\"GET\", \"HEAD\"]\\n    cached_methods   = [\"GET\", \"HEAD\"]\\n    target_origin_id = \"S3-${aws_s3_bucket.website.id}\"\\n\\n    forwarded_values {\\n      query_string = false\\n\\n      cookies {\\n        forward = \"none\"\\n      }\\n    }\\n\\n    viewer_protocol_policy = \"redirect-to-https\"\\n  }\\n\\n  restrictions {\\n    geo_restriction {\\n      restriction_type = \"none\"\\n    }\\n  }\\n\\n  viewer_certificate {\\n    acm_certificate_arn            = aws_acm_certificate.website.arn\\n    ssl_support_method             = \"sni-only\"\\n    minimum_protocol_version       = \"TLSv1.2_2019\"\\n  }\\n\\n  price_class = \"PriceClass_100\"\\n}\\n\\nresource \"aws_acm_certificate\" \"website\" {\\n  domain_name       = var.domain_name\\n  validation_method = \"DNS\"\\n\\n  lifecycle {\\n    create_before_destroy = true\\n  }\\n\\n  domain_validation_options {\\n    domain_name = var.domain_name\\n    resource_record_name = aws_route53_record.website_validation.name\\n    resource_record_type = aws_route53_record.website_validation.type\\n    resource_record_value = aws_route53_record.website_validation.records[0]\\n  }\\n}\\n\\nresource \"aws_route53_record\" \"website_validation\" {\\n  name    = aws_acm_certificate.website.domain_validation_options[0].resource_record_name\\n  type    = aws_acm_certificate.website.domain_validation_options[0].resource_record_type\\n  zone_id = aws_route53_zone.primary.zone_id\\n\\n  records = [aws_acm_certificate.website.domain_validation_options[0].resource_record_value]\\n  ttl     = 60\\n}\\n\\nresource \"aws_acm_certificate_validation\" \"website\" {\\n  certificate_arn         = aws_acm_certificate.website.arn\\n  validation_record_fqdns = [aws_route53_record.website_validation.fqdn]\\n}\\n\\nresource \"aws_cloudfront_origin_access_identity\" \"website\" {}\\n```\\n\\nThis Terraform script will:\\n\\n1. Create an S3 bucket configured for static website hosting.\\n2. Set up a bucket policy to allow public read access.\\n3. Spin up a CloudFront distribution to provide a globally distributed CDN and enforce HTTPS.\\n4. Create an ACM certificate for HTTPS.\\n5. Set up a Route 53 DNS record to route traffic to CloudFront.\\n\\nPlease ensure your AWS credentials have permissions to manage S3, CloudFront, ACM, and Route 53 resources. Adjust the `region` if necessary, and provide your domain name when executing the script.'"
      ]
     },
     "execution_count": 32,
     "metadata": {},
     "output_type": "execute_result"
    }
   ],
   "source": [
    "from openai import OpenAI\n",
    "\n",
    "SYSTEM_PROMPT = \"\"\"\n",
    "You are a terraform developer, with focus on AWS cloud.\n",
    "When the user requests to create an AWS resource, translate his request to terraform infrastructure as code.\n",
    "Present all the resources under one file. Format the file like this:\n",
    "```terraform\n",
    "<your terraform code here>\n",
    "```\n",
    "Make sure that your terraform code handles all the dependencies to create the requested resource.\n",
    "\"\"\"\n",
    "\n",
    "\n",
    "client = OpenAI()\n",
    "\n",
    "request = \"create resources suitable for hosting a static website on s3 bucket with route53\"\n",
    "\n",
    "chat_completion = client.chat.completions.create(\n",
    "    messages=[\n",
    "        {\n",
    "            \"role\": \"system\",\n",
    "            \"content\": SYSTEM_PROMPT,\n",
    "        },\n",
    "        {\n",
    "            \"role\": \"user\",\n",
    "            \"content\": request,\n",
    "        }\n",
    "    ],\n",
    "    model=\"gpt-4o\",\n",
    ")\n",
    "\n",
    "chat_completion.choices[0].message.content"
   ]
  },
  {
   "cell_type": "code",
   "execution_count": 33,
   "id": "cacddaf8-79d0-4d87-9a38-e90a41d25fcf",
   "metadata": {},
   "outputs": [],
   "source": [
    "import re\n",
    "from typing import List, Optional\n",
    "\n",
    "def extract_code_blocks(text: str, title: Optional[str] = None) -> List[str]:\n",
    "    \"\"\"\n",
    "    Extract code blocks from text that match the pattern ```{title}\\n<content>```\n",
    "\n",
    "    Args:\n",
    "        text (str): The input text containing code blocks\n",
    "        title (Optional[str]): If provided, only extract blocks with this title\n",
    "\n",
    "    Returns:\n",
    "        List[str]: List of extracted code block contents\n",
    "    \"\"\"\n",
    "    # Pattern explanation:\n",
    "    # ```           - Match opening triple backticks\n",
    "    # ([^\\n]*)     - Capture any characters except newline (the title)\n",
    "    # \\n           - Match newline\n",
    "    # (.*?)        - Capture any characters (non-greedy) (the content)\n",
    "    # ```          - Match closing triple backticks\n",
    "    pattern = r'```([^\\n]*)\\n(.*?)```'\n",
    "\n",
    "    # Use re.DOTALL to make dot match newlines\n",
    "    matches = re.finditer(pattern, text, re.DOTALL)\n",
    "\n",
    "    results = []\n",
    "    for match in matches:\n",
    "        block_title = match.group(1).strip()\n",
    "        content = match.group(2).strip()\n",
    "\n",
    "        # If title is specified, only include blocks with matching title\n",
    "        if title is None or block_title.lower() == title.lower():\n",
    "            results.append(content)\n",
    "\n",
    "    return results"
   ]
  },
  {
   "cell_type": "code",
   "execution_count": 34,
   "id": "1b7095f6-d757-4f10-a698-3a9a2f1fc6ee",
   "metadata": {},
   "outputs": [
    {
     "data": {
      "text/plain": [
       "'provider \"aws\" {\\n  region = \"us-east-1\"\\n}\\n\\nvariable \"domain_name\" {\\n  description = \"The domain name to be used for the static website\"\\n}\\n\\nresource \"aws_s3_bucket\" \"website\" {\\n  bucket = var.domain_name\\n  acl    = \"public-read\"\\n\\n  website {\\n    index_document = \"index.html\"\\n    error_document = \"error.html\"\\n  }\\n}\\n\\nresource \"aws_s3_bucket_policy\" \"website_policy\" {\\n  bucket = aws_s3_bucket.website.id\\n  policy = jsonencode({\\n    Version = \"2012-10-17\"\\n    Statement = [\\n      {\\n        Effect    = \"Allow\"\\n        Principal = \"*\"\\n        Action    = \"s3:GetObject\"\\n        Resource  = \"${aws_s3_bucket.website.arn}/*\"\\n      }\\n    ]\\n  })\\n}\\n\\nresource \"aws_route53_record\" \"www\" {\\n  zone_id = aws_route53_zone.primary.zone_id\\n  name    = var.domain_name\\n  type    = \"A\"\\n\\n  alias {\\n    name                   = aws_cloudfront_distribution.website.domain_name\\n    zone_id                = aws_cloudfront_distribution.website.hosted_zone_id\\n    evaluate_target_health = false\\n  }\\n}\\n\\nresource \"aws_route53_zone\" \"primary\" {\\n  name = var.domain_name\\n}\\n\\nresource \"aws_cloudfront_distribution\" \"website\" {\\n  origin {\\n    domain_name = \"${aws_s3_bucket.website.bucket_domain_name}\"\\n    origin_id   = \"S3-${aws_s3_bucket.website.id}\"\\n\\n    s3_origin_config {\\n      origin_access_identity = aws_cloudfront_origin_access_identity.website.cloudfront_access_identity_path\\n    }\\n  }\\n\\n  enabled             = true\\n  is_ipv6_enabled     = true\\n  comment             = \"Static website hosting for ${var.domain_name}\"\\n  default_root_object = \"index.html\"\\n\\n  aliases = [var.domain_name]\\n\\n  default_cache_behavior {\\n    allowed_methods  = [\"GET\", \"HEAD\"]\\n    cached_methods   = [\"GET\", \"HEAD\"]\\n    target_origin_id = \"S3-${aws_s3_bucket.website.id}\"\\n\\n    forwarded_values {\\n      query_string = false\\n\\n      cookies {\\n        forward = \"none\"\\n      }\\n    }\\n\\n    viewer_protocol_policy = \"redirect-to-https\"\\n  }\\n\\n  restrictions {\\n    geo_restriction {\\n      restriction_type = \"none\"\\n    }\\n  }\\n\\n  viewer_certificate {\\n    acm_certificate_arn            = aws_acm_certificate.website.arn\\n    ssl_support_method             = \"sni-only\"\\n    minimum_protocol_version       = \"TLSv1.2_2019\"\\n  }\\n\\n  price_class = \"PriceClass_100\"\\n}\\n\\nresource \"aws_acm_certificate\" \"website\" {\\n  domain_name       = var.domain_name\\n  validation_method = \"DNS\"\\n\\n  lifecycle {\\n    create_before_destroy = true\\n  }\\n\\n  domain_validation_options {\\n    domain_name = var.domain_name\\n    resource_record_name = aws_route53_record.website_validation.name\\n    resource_record_type = aws_route53_record.website_validation.type\\n    resource_record_value = aws_route53_record.website_validation.records[0]\\n  }\\n}\\n\\nresource \"aws_route53_record\" \"website_validation\" {\\n  name    = aws_acm_certificate.website.domain_validation_options[0].resource_record_name\\n  type    = aws_acm_certificate.website.domain_validation_options[0].resource_record_type\\n  zone_id = aws_route53_zone.primary.zone_id\\n\\n  records = [aws_acm_certificate.website.domain_validation_options[0].resource_record_value]\\n  ttl     = 60\\n}\\n\\nresource \"aws_acm_certificate_validation\" \"website\" {\\n  certificate_arn         = aws_acm_certificate.website.arn\\n  validation_record_fqdns = [aws_route53_record.website_validation.fqdn]\\n}\\n\\nresource \"aws_cloudfront_origin_access_identity\" \"website\" {}'"
      ]
     },
     "execution_count": 34,
     "metadata": {},
     "output_type": "execute_result"
    }
   ],
   "source": [
    "terraform_code = extract_code_blocks(chat_completion.choices[0].message.content, \"terraform\")[0]\n",
    "terraform_code"
   ]
  },
  {
   "cell_type": "code",
   "execution_count": 36,
   "id": "74ed5e77-7abf-425d-a93a-f9c47d209588",
   "metadata": {},
   "outputs": [
    {
     "data": {
      "text/plain": [
       "ParamtersResponse(parameters=[Parameter(parameter_name='aws_region', parameter_description='The AWS region where the resources will be created', default_value='us-east-1', parameter_type=<ParameterType.basic: 'basic'>), Parameter(parameter_name='domain_name', parameter_description='The domain name to be used for the static website', default_value='', parameter_type=<ParameterType.basic: 'basic'>), Parameter(parameter_name='website_index_document', parameter_description=\"The S3 bucket's index document for the website\", default_value='index.html', parameter_type=<ParameterType.basic: 'basic'>), Parameter(parameter_name='website_error_document', parameter_description=\"The S3 bucket's error document for the website\", default_value='error.html', parameter_type=<ParameterType.basic: 'basic'>), Parameter(parameter_name='certificate_validation_method', parameter_description='The method for validating the certificate', default_value='DNS', parameter_type=<ParameterType.advanced: 'advanced'>), Parameter(parameter_name='cloudfront_price_class', parameter_description='The price class for the CloudFront distribution', default_value='PriceClass_100', parameter_type=<ParameterType.advanced: 'advanced'>)])"
      ]
     },
     "execution_count": 36,
     "metadata": {},
     "output_type": "execute_result"
    }
   ],
   "source": [
    "from openai import OpenAI\n",
    "from enum import Enum\n",
    "from typing import Union\n",
    "\n",
    "from pydantic import BaseModel\n",
    "\n",
    "client = OpenAI()\n",
    "\n",
    "class ParameterType(str, Enum):\n",
    "    advanced = \"advanced\"\n",
    "    basic = \"basic\"\n",
    "\n",
    "class Parameter(BaseModel):\n",
    "    parameter_name: str\n",
    "    parameter_description: str\n",
    "    default_value: str\n",
    "    parameter_type: ParameterType\n",
    "\n",
    "class Response(BaseModel):\n",
    "    parameters: List[Parameter]\n",
    "\n",
    "\n",
    "SYSTEM_PROMPT = \"\"\"\n",
    "The user provided the following request you to create resources on AWS by generating terraform infrastructure as code.\n",
    "{request}\n",
    "Given terraform code, generate a list parameters you need to customize those resources. Each parameter consists of parameter name, parameter description, default value and parameter type that you will to the user to customize the resources.\n",
    "\"\"\"\n",
    "\n",
    "request = \"create resources suitable for hosting a static website on s3 bucket with route53\"\n",
    "\n",
    "completion = client.beta.chat.completions.parse(\n",
    "  model=\"gpt-4o-2024-08-06\",\n",
    "  messages=[\n",
    "    {\n",
    "      \"role\": \"system\",\n",
    "      \"content\": [\n",
    "        {\n",
    "          \"type\": \"text\",\n",
    "          \"text\": SYSTEM_PROMPT.format(request=request)\n",
    "        }\n",
    "      ]\n",
    "    },\n",
    "    {\n",
    "      \"role\": \"user\",\n",
    "      \"content\": [\n",
    "        {\n",
    "          \"type\": \"text\",\n",
    "          \"text\": f\"here is the terraform code \\n {terraform_code}\"\n",
    "        }\n",
    "      ]\n",
    "    },\n",
    "  ],\n",
    "  temperature=1,\n",
    "  max_tokens=2048,\n",
    "  top_p=1,\n",
    "  frequency_penalty=0,\n",
    "  presence_penalty=0,\n",
    "  response_format=ParamtersResponse,\n",
    ")\n",
    "completion.choices[0].message.parsed"
   ]
  },
  {
   "cell_type": "code",
   "execution_count": 39,
   "id": "07bc73a6-6587-462a-a6f3-678bf48444c3",
   "metadata": {},
   "outputs": [
    {
     "data": {
      "text/plain": [
       "[Parameter(parameter_name='aws_region', parameter_description='The AWS region where the resources will be created', default_value='eu-central-1', parameter_type=<ParameterType.basic: 'basic'>),\n",
       " Parameter(parameter_name='domain_name', parameter_description='The domain name to be used for the static website', default_value='test.com', parameter_type=<ParameterType.basic: 'basic'>),\n",
       " Parameter(parameter_name='website_index_document', parameter_description=\"The S3 bucket's index document for the website\", default_value='index-success.html', parameter_type=<ParameterType.basic: 'basic'>),\n",
       " Parameter(parameter_name='website_error_document', parameter_description=\"The S3 bucket's error document for the website\", default_value='error.html', parameter_type=<ParameterType.basic: 'basic'>),\n",
       " Parameter(parameter_name='certificate_validation_method', parameter_description='The method for validating the certificate', default_value='DNS', parameter_type=<ParameterType.advanced: 'advanced'>),\n",
       " Parameter(parameter_name='cloudfront_price_class', parameter_description='The price class for the CloudFront distribution', default_value='PriceClass_100', parameter_type=<ParameterType.advanced: 'advanced'>)]"
      ]
     },
     "execution_count": 39,
     "metadata": {},
     "output_type": "execute_result"
    }
   ],
   "source": [
    "parameters = completion.choices[0].message.parsed.parameters\n",
    "values = [\"eu-central-1\", \"test.com\", \"index-success.html\", \"error.html\", \"DNS\", \"PriceClass_100\"]\n",
    "for param, value in zip(parameters, values):\n",
    "    param.default_value = value\n",
    "parameters"
   ]
  },
  {
   "cell_type": "code",
   "execution_count": 40,
   "id": "571c0f0d-fd10-4ddb-9b90-7efabfafbe85",
   "metadata": {},
   "outputs": [
    {
     "data": {
      "text/plain": [
       "'```terraform\\nprovider \"aws\" {\\n  region = \"eu-central-1\"\\n}\\n\\nresource \"aws_s3_bucket\" \"website_bucket\" {\\n  bucket = \"test.com\"\\n  acl    = \"public-read\"\\n\\n  website {\\n    index_document = \"index-success.html\"\\n    error_document = \"error.html\"\\n  }\\n}\\n\\nresource \"aws_s3_bucket_policy\" \"website_bucket_policy\" {\\n  bucket = aws_s3_bucket.website_bucket.id\\n\\n  policy = <<EOF\\n{\\n  \"Version\": \"2012-10-17\",\\n  \"Statement\": [\\n    {\\n      \"Sid\": \"PublicReadGetObject\",\\n      \"Effect\": \"Allow\",\\n      \"Principal\": \"*\",\\n      \"Action\": \"s3:GetObject\",\\n      \"Resource\": \"arn:aws:s3:::test.com/*\"\\n    }\\n  ]\\n}\\nEOF\\n}\\n\\nresource \"aws_route53_zone\" \"example\" {\\n  name = \"test.com\"\\n}\\n\\nresource \"aws_acm_certificate\" \"cert\" {\\n  domain_name               = \"test.com\"\\n  validation_method         = \"DNS\"\\n  \\n  lifecycle {\\n    create_before_destroy = true\\n  }\\n}\\n\\nresource \"aws_route53_record\" \"cert_validation\" {\\n  for_each = {\\n    for dvo in aws_acm_certificate.cert.domain_validation_options : dvo.domain_name => {\\n      name   = dvo.resource_record_name\\n      type   = dvo.resource_record_type\\n      record = dvo.resource_record_value\\n    }\\n  }\\n\\n  zone_id = aws_route53_zone.example.zone_id\\n  name    = each.value.name\\n  type    = each.value.type\\n  records = [each.value.record]\\n  ttl     = 60\\n}\\n\\nresource \"aws_acm_certificate_validation\" \"cert_validation\" {\\n  certificate_arn         = aws_acm_certificate.cert.arn\\n  validation_record_fqdns = [for record in aws_route53_record.cert_validation : record.fqdn]\\n}\\n\\nresource \"aws_cloudfront_distribution\" \"website_distribution\" {\\n  origin {\\n    domain_name = aws_s3_bucket.website_bucket.website_endpoint\\n\\n    custom_origin_config {\\n      http_port              = 80\\n      https_port             = 443\\n      origin_protocol_policy = \"http-only\"\\n    }\\n  }\\n\\n  enabled             = true\\n  is_ipv6_enabled     = true\\n  comment             = \"Website distribution for test.com\"\\n  default_root_object = \"index-success.html\"\\n\\n  aliases = [\"test.com\"]\\n\\n  default_cache_behavior {\\n    allowed_methods  = [\"GET\", \"HEAD\"]\\n    cached_methods   = [\"GET\", \"HEAD\"]\\n    target_origin_id = \"S3-test.com\"\\n\\n    forwarded_values {\\n      query_string = false\\n      cookies {\\n        forward = \"none\"\\n      }\\n    }\\n\\n    viewer_protocol_policy = \"redirect-to-https\"\\n    min_ttl                = 0\\n    default_ttl            = 3600\\n    max_ttl                = 86400\\n  }\\n\\n  price_class = \"PriceClass_100\"\\n\\n  restrictions {\\n    geo_restriction {\\n      restriction_type = \"none\"\\n    }\\n  }\\n\\n  viewer_certificate {\\n    acm_certificate_arn            = aws_acm_certificate.cert.arn\\n    ssl_support_method             = \"sni-only\"\\n    minimum_protocol_version       = \"TLSv1.2_2021\"\\n    cloudfront_default_certificate = false\\n  }\\n}\\n\\nresource \"aws_route53_record\" \"www\" {\\n  zone_id = aws_route53_zone.example.zone_id\\n  name    = \"test.com\"\\n  type    = \"A\"\\n\\n  alias {\\n    name                   = aws_cloudfront_distribution.website_distribution.domain_name\\n    zone_id                = aws_cloudfront_distribution.website_distribution.hosted_zone_id\\n    evaluate_target_health = false\\n  }\\n}\\n```\\n```remarks\\nThe Terraform configuration above sets up a static website on AWS using an S3 bucket and Route 53 with CloudFront. It includes creating an S3 bucket configured for hosting a static website and a public read policy, a Route 53 hosted zone, an ACM certificate for HTTPS, and a CloudFront distribution for content delivery. Ensure your domain \"test.com\" is registered already, and verify that you have correct permissions to create these resources in your AWS account. You\\'ll also need to manage your DNS settings in your domain registrar to ensure they point to the correct Route 53 name servers if not already managed in AWS.\\n```'"
      ]
     },
     "execution_count": 40,
     "metadata": {},
     "output_type": "execute_result"
    }
   ],
   "source": [
    "def fmt_parameters(params: List[Parameter]):\n",
    "    if not params:\n",
    "        return \"No parameters provided so far.\"\n",
    "    params = [f\"{parameter.parameter_name} ({parameter.parameter_description}): {parameter.default_value}\" for parameter in params]\n",
    "    return \"\\n\".join(params)\n",
    "\n",
    "from openai import OpenAI\n",
    "\n",
    "SYSTEM_PROMPT = \"\"\"\n",
    "You are a terraform developer, with focus on AWS cloud.\n",
    "When the user requests to create an AWS resource, translate his request to terraform infrastructure as code.\n",
    "Present all the resources under one file. Format the file like this:\n",
    "```terraform\n",
    "<your terraform code here>\n",
    "```\n",
    "Also present your remarks to the user, explicitly in this format:\n",
    "```remarks\n",
    "<your remarks to the user here>\n",
    "```\n",
    "Make sure that your terraform code handles all the dependencies to create the requested resource.\n",
    "\"\"\"\n",
    "\n",
    "\n",
    "client = OpenAI()\n",
    "\n",
    "request = \"create resources suitable for hosting a static website on s3 bucket with route53\"\n",
    "USER_PROMPT = \"\"\"\n",
    "{request}\n",
    "Use the folliowing configuration:\n",
    "{configuration}\n",
    "\"\"\"\n",
    "chat_completion = client.chat.completions.create(\n",
    "    messages=[\n",
    "        {\n",
    "            \"role\": \"system\",\n",
    "            \"content\": SYSTEM_PROMPT,\n",
    "        },\n",
    "        {\n",
    "            \"role\": \"user\",\n",
    "            \"content\": USER_PROMPT.format(request=request, configuration=fmt_parameters(parameters)),\n",
    "        }\n",
    "    ],\n",
    "    model=\"gpt-4o\",\n",
    ")\n",
    "\n",
    "chat_completion.choices[0].message.content"
   ]
  },
  {
   "cell_type": "code",
   "execution_count": 42,
   "id": "076bffb0-9658-4b67-bc3a-cbe3aa94735f",
   "metadata": {},
   "outputs": [
    {
     "name": "stdout",
     "output_type": "stream",
     "text": [
      "provider \"aws\" {\n",
      "  region = \"eu-central-1\"\n",
      "}\n",
      "\n",
      "resource \"aws_s3_bucket\" \"website_bucket\" {\n",
      "  bucket = \"test.com\"\n",
      "  acl    = \"public-read\"\n",
      "\n",
      "  website {\n",
      "    index_document = \"index-success.html\"\n",
      "    error_document = \"error.html\"\n",
      "  }\n",
      "}\n",
      "\n",
      "resource \"aws_s3_bucket_policy\" \"website_bucket_policy\" {\n",
      "  bucket = aws_s3_bucket.website_bucket.id\n",
      "\n",
      "  policy = <<EOF\n",
      "{\n",
      "  \"Version\": \"2012-10-17\",\n",
      "  \"Statement\": [\n",
      "    {\n",
      "      \"Sid\": \"PublicReadGetObject\",\n",
      "      \"Effect\": \"Allow\",\n",
      "      \"Principal\": \"*\",\n",
      "      \"Action\": \"s3:GetObject\",\n",
      "      \"Resource\": \"arn:aws:s3:::test.com/*\"\n",
      "    }\n",
      "  ]\n",
      "}\n",
      "EOF\n",
      "}\n",
      "\n",
      "resource \"aws_route53_zone\" \"example\" {\n",
      "  name = \"test.com\"\n",
      "}\n",
      "\n",
      "resource \"aws_acm_certificate\" \"cert\" {\n",
      "  domain_name               = \"test.com\"\n",
      "  validation_method         = \"DNS\"\n",
      "  \n",
      "  lifecycle {\n",
      "    create_before_destroy = true\n",
      "  }\n",
      "}\n",
      "\n",
      "resource \"aws_route53_record\" \"cert_validation\" {\n",
      "  for_each = {\n",
      "    for dvo in aws_acm_certificate.cert.domain_validation_options : dvo.domain_name => {\n",
      "      name   = dvo.resource_record_name\n",
      "      type   = dvo.resource_record_type\n",
      "      record = dvo.resource_record_value\n",
      "    }\n",
      "  }\n",
      "\n",
      "  zone_id = aws_route53_zone.example.zone_id\n",
      "  name    = each.value.name\n",
      "  type    = each.value.type\n",
      "  records = [each.value.record]\n",
      "  ttl     = 60\n",
      "}\n",
      "\n",
      "resource \"aws_acm_certificate_validation\" \"cert_validation\" {\n",
      "  certificate_arn         = aws_acm_certificate.cert.arn\n",
      "  validation_record_fqdns = [for record in aws_route53_record.cert_validation : record.fqdn]\n",
      "}\n",
      "\n",
      "resource \"aws_cloudfront_distribution\" \"website_distribution\" {\n",
      "  origin {\n",
      "    domain_name = aws_s3_bucket.website_bucket.website_endpoint\n",
      "\n",
      "    custom_origin_config {\n",
      "      http_port              = 80\n",
      "      https_port             = 443\n",
      "      origin_protocol_policy = \"http-only\"\n",
      "    }\n",
      "  }\n",
      "\n",
      "  enabled             = true\n",
      "  is_ipv6_enabled     = true\n",
      "  comment             = \"Website distribution for test.com\"\n",
      "  default_root_object = \"index-success.html\"\n",
      "\n",
      "  aliases = [\"test.com\"]\n",
      "\n",
      "  default_cache_behavior {\n",
      "    allowed_methods  = [\"GET\", \"HEAD\"]\n",
      "    cached_methods   = [\"GET\", \"HEAD\"]\n",
      "    target_origin_id = \"S3-test.com\"\n",
      "\n",
      "    forwarded_values {\n",
      "      query_string = false\n",
      "      cookies {\n",
      "        forward = \"none\"\n",
      "      }\n",
      "    }\n",
      "\n",
      "    viewer_protocol_policy = \"redirect-to-https\"\n",
      "    min_ttl                = 0\n",
      "    default_ttl            = 3600\n",
      "    max_ttl                = 86400\n",
      "  }\n",
      "\n",
      "  price_class = \"PriceClass_100\"\n",
      "\n",
      "  restrictions {\n",
      "    geo_restriction {\n",
      "      restriction_type = \"none\"\n",
      "    }\n",
      "  }\n",
      "\n",
      "  viewer_certificate {\n",
      "    acm_certificate_arn            = aws_acm_certificate.cert.arn\n",
      "    ssl_support_method             = \"sni-only\"\n",
      "    minimum_protocol_version       = \"TLSv1.2_2021\"\n",
      "    cloudfront_default_certificate = false\n",
      "  }\n",
      "}\n",
      "\n",
      "resource \"aws_route53_record\" \"www\" {\n",
      "  zone_id = aws_route53_zone.example.zone_id\n",
      "  name    = \"test.com\"\n",
      "  type    = \"A\"\n",
      "\n",
      "  alias {\n",
      "    name                   = aws_cloudfront_distribution.website_distribution.domain_name\n",
      "    zone_id                = aws_cloudfront_distribution.website_distribution.hosted_zone_id\n",
      "    evaluate_target_health = false\n",
      "  }\n",
      "}\n"
     ]
    }
   ],
   "source": [
    "print(extract_code_blocks(chat_completion.choices[0].message.content, \"terraform\")[0])"
   ]
  },
  {
   "cell_type": "code",
   "execution_count": null,
   "id": "530d2420-89cb-4a58-b8f5-37e33c8a6096",
   "metadata": {},
   "outputs": [],
   "source": []
  }
 ],
 "metadata": {
  "kernelspec": {
   "display_name": "Python 3 (ipykernel)",
   "language": "python",
   "name": "python3"
  },
  "language_info": {
   "codemirror_mode": {
    "name": "ipython",
    "version": 3
   },
   "file_extension": ".py",
   "mimetype": "text/x-python",
   "name": "python",
   "nbconvert_exporter": "python",
   "pygments_lexer": "ipython3",
   "version": "3.12.0"
  }
 },
 "nbformat": 4,
 "nbformat_minor": 5
}
